{
 "cells": [
  {
   "cell_type": "code",
   "execution_count": null,
   "metadata": {},
   "outputs": [],
   "source": [
    "import pandas as pd\n",
    "\n",
    "# Load the CSV file with the correct header\n",
    "df = pd.read_csv('CalcaterraEtAl_2024_NatEner_data_ED_fig22.csv', header=1)  # Replace 'your_file_path.csv' with the actual path to your CSV file\n",
    "\n",
    "# Filter the data where 'scengroup' is '1.5D'\n",
    "filtered_df = df[df['scengroup'] == '1.5D']\n",
    "\n",
    "# Save the filtered data to a new CSV file\n",
    "filtered_df.to_csv('filtered_data_scengroup_1_5D.csv', index=False)\n",
    "\n",
    "\n"
   ]
  },
  {
   "cell_type": "code",
   "execution_count": 1,
   "metadata": {},
   "outputs": [
    {
     "name": "stdout",
     "output_type": "stream",
     "text": [
      "Filtered files saved as:\n",
      "China+_filtered_data.csv\n",
      "Europe_filtered_data.csv\n",
      "Middle_East_filtered_data.csv\n",
      "North_America_filtered_data.csv\n"
     ]
    }
   ],
   "source": [
    "import pandas as pd\n",
    "\n",
    "# Load the CSV file into a pandas dataframe\n",
    "df = pd.read_csv('filtered_data_scengroup_1_5D.csv')  # Replace 'your_file_path.csv' with the path to your file\n",
    "\n",
    "# Define the regions to filter\n",
    "regions = [\"China+\", \"Europe\", \"Middle East\", \"North America\"]\n",
    "\n",
    "# Create a dictionary to store filtered data for each region\n",
    "filtered_data = {}\n",
    "\n",
    "for region in regions:\n",
    "    filtered_data[region] = df[df['Region'] == region]\n",
    "\n",
    "# Save each filtered dataframe to a separate CSV file\n",
    "for region, data in filtered_data.items():\n",
    "    output_file = f'{region.replace(\" \", \"_\")}_filtered_data.csv'  # Adjusted file name for compatibility\n",
    "    data.to_csv(output_file, index=False)\n",
    "\n",
    "# Optionally, you can print the file paths where the files are saved\n",
    "print(\"Filtered files saved as:\")\n",
    "for region in regions:\n",
    "    print(f'{region.replace(\" \", \"_\")}_filtered_data.csv')\n"
   ]
  }
 ],
 "metadata": {
  "kernelspec": {
   "display_name": "base",
   "language": "python",
   "name": "python3"
  },
  "language_info": {
   "codemirror_mode": {
    "name": "ipython",
    "version": 3
   },
   "file_extension": ".py",
   "mimetype": "text/x-python",
   "name": "python",
   "nbconvert_exporter": "python",
   "pygments_lexer": "ipython3",
   "version": "3.11.4"
  }
 },
 "nbformat": 4,
 "nbformat_minor": 2
}
